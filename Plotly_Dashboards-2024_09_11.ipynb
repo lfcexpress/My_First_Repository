{
  "metadata": {
    "kernelspec": {
      "name": "python",
      "display_name": "Python (Pyodide)",
      "language": "python"
    },
    "language_info": {
      "codemirror_mode": {
        "name": "python",
        "version": 3
      },
      "file_extension": ".py",
      "mimetype": "text/x-python",
      "name": "python",
      "nbconvert_exporter": "python",
      "pygments_lexer": "ipython3",
      "version": "3.8"
    }
  },
  "nbformat_minor": 4,
  "nbformat": 4,
  "cells": [
    {
      "cell_type": "markdown",
      "source": "# Additional Resources for Plotly\n\n### Reproduced by Fernando Cisneros\n### Latest Update: 2024.09.11\n\n",
      "metadata": {}
    },
    {
      "cell_type": "markdown",
      "source": "---\n# To Learn Plotly for Dashboards.\n\n* [Plotly python](https://plotly.com/python/getting-started/)\n  <https://plotly.com/python/getting-started/>\n\n* [Plotly graph objects with example](https://plotly.com/python/graph-objects/)</n>\n  <https://plotly.com/python/graph-objects/>\n\n* [Plotly express](https://plotly.com/python/plotly-express/)</n>\n<https://plotly.com/python/plotly-express/>\n\n* [API reference](https://plotly.com/python-api-reference/)</n>\n<https://plotly.com/python-api-reference/>\n\n---\n\n# Additional useful resources\n\n* [Plotly cheatsheet](https://images.plot.ly/plotly-documentation/images/plotly_js_cheat_sheet.pdf)</n>\n<https://images.plot.ly/plotly-documentation/images/plotly_js_cheat_sheet.pdf>\n\n* [Plotly community](https://community.plotly.com/c/plotly-python/5)</n>\n<https://community.plotly.com/c/plotly-python/5>\n\n* [Related blogs](https://plotlygraphs.medium.com/)<n>\n<https://plotlygraphs.medium.com/>\n\n* [Open-source datasets](https://developer.ibm.com/exchanges/data/)\n<https://developer.ibm.com/exchanges/data/>\n ",
      "metadata": {}
    },
    {
      "cell_type": "code",
      "source": "",
      "metadata": {
        "trusted": true
      },
      "outputs": [],
      "execution_count": null
    }
  ]
}