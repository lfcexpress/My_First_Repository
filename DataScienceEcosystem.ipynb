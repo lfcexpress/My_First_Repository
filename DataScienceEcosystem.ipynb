{
 "cells": [
  {
   "cell_type": "markdown",
   "id": "983b92ff-d88f-47ab-925d-12b28daa0b11",
   "metadata": {
    "tags": []
   },
   "source": [
    "# Data Science tools and Ecosystems"
   ]
  },
  {
   "cell_type": "markdown",
   "id": "3e7856c8-e1e6-4bbf-bff1-460773c3153d",
   "metadata": {},
   "source": [
    "In this notebook Data Science Tools and Ecosystems are summarized"
   ]
  },
  {
   "cell_type": "markdown",
   "id": "f962be6b-8ee5-4455-b7ab-60e4963c1173",
   "metadata": {},
   "source": [
    "Some of the popular languages that data scientists use are:\n",
    "\n",
    "* Python - An easy to learn general purpose language that is used for statistical analysis, mathematical manipulation, and data mining.\n",
    "* R Programming - Used for statistical analysis, mathematical manipulation, and data mining.\n",
    "* Scala - General purpose programming language designed as an extension of java.\n",
    "* C++ - General purpose programming language.\n",
    "* Julia - Refined parallelism designed with high-performance numerical analysis and computational science.\n",
    "* JS - A general purpose language core technology of the internet that extends beyond beyond browser applications.\n",
    "* PHP - A general purpose tool geared towards. \n",
    "* GO - An open source programming language that makes it simple to build secure scalable systems.\n",
    "* Ruby - A high-level, general purpose programming language whose focus is productivity\n",
    "* Visual Basic - Developed by Microsoft for application development.\n"
   ]
  },
  {
   "cell_type": "markdown",
   "id": "b67c6467-0f3a-439d-b327-9766a2d6aee1",
   "metadata": {},
   "source": [
    "Some of the commonly used libraries used by data scientists :\n",
    "\n",
    "* Pandas - Data structures tools for data cleaning, manipulation, analysis, & visuals.\n",
    "* Numpy - Arrays & matrices to apply  mathematical functions.\n",
    "* Seaborn - Heat maps, time series charts, and violin plots\n",
    "* Scikitlearning - Statistical modeling, regression analysis, classification, & clustering.\n",
    "* Kiras - Deep learning modeling.\n",
    "* Tensor Flow - Deep learning modeling for production and deployment. \n",
    "\n"
   ]
  },
  {
   "cell_type": "markdown",
   "id": "2d20125b-631c-48da-8734-e549aaae2047",
   "metadata": {},
   "source": [
    "| Data Science Tools |\n",
    "|--------------------|\n",
    "|Juypter Notebook    |\n",
    "|Jupter Lab          |\n",
    "|RStudio             |"
   ]
  },
  {
   "cell_type": "markdown",
   "id": "0ed1f64a-0b81-4872-96e0-8b880ec27841",
   "metadata": {},
   "source": [
    "### Below are a few examples of evaluation aritmetic expressions in Python"
   ]
  },
  {
   "cell_type": "code",
   "execution_count": 5,
   "id": "f0b60988-4a15-4d95-bad1-a7ab665f8fa1",
   "metadata": {
    "tags": []
   },
   "outputs": [
    {
     "data": {
      "text/plain": [
       "17"
      ]
     },
     "execution_count": 5,
     "metadata": {},
     "output_type": "execute_result"
    }
   ],
   "source": [
    "# This is a simple arithmetic expression to multiply then add integers\n",
    "(3*4)+5"
   ]
  },
  {
   "cell_type": "code",
   "execution_count": 6,
   "id": "9807afb0-c02b-408e-a0ed-a45c4705cf94",
   "metadata": {
    "tags": []
   },
   "outputs": [
    {
     "data": {
      "text/plain": [
       "3.3333333333333335"
      ]
     },
     "execution_count": 6,
     "metadata": {},
     "output_type": "execute_result"
    }
   ],
   "source": [
    "# This will convert 200 minutes to hours by dividing by 60.\n",
    "\n",
    "200/60"
   ]
  },
  {
   "cell_type": "markdown",
   "id": "9541e6bb-60a1-4a1c-bd46-6459850ac27e",
   "metadata": {},
   "source": [
    "**Summary of objectives.**\n",
    "\n",
    "* List populare Languages for Data Science\n",
    "* List Collaborative Environments for Programming\n",
    "* List Popular Libraries\n",
    "* Demonstrate Markdown formatting\n",
    "* Demonstrate basic code for mathematical functions \n"
   ]
  },
  {
   "cell_type": "markdown",
   "id": "ea08ab41-c86e-41d0-b7b3-79222e9baa29",
   "metadata": {
    "tags": []
   },
   "source": [
    "## Author\n",
    "Luis F. Cisneros"
   ]
  },
  {
   "cell_type": "code",
   "execution_count": null,
   "id": "a429a596-638f-40ad-9ffd-2a068cd9c160",
   "metadata": {},
   "outputs": [],
   "source": []
  }
 ],
 "metadata": {
  "kernelspec": {
   "display_name": "Python",
   "language": "python",
   "name": "conda-env-python-py"
  },
  "language_info": {
   "codemirror_mode": {
    "name": "ipython",
    "version": 3
   },
   "file_extension": ".py",
   "mimetype": "text/x-python",
   "name": "python",
   "nbconvert_exporter": "python",
   "pygments_lexer": "ipython3",
   "version": "3.7.12"
  }
 },
 "nbformat": 4,
 "nbformat_minor": 5
}
